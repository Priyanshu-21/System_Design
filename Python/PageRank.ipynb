{
 "cells": [
  {
   "cell_type": "markdown",
   "id": "5b72966c",
   "metadata": {},
   "source": [
    "#### Analysis and Implementation of the Page Rank Algorithm \n",
    "##### Objectives: - \n",
    "- What is Page Rank Algorithm and how does it solve ranking of webpage problem\n",
    "- Implement Page Rank Algorithm\n",
    "- Do the Analysis of the Algorithm & How does it uses Eigenvectors and Eigenvalues to rank webpage\n",
    "- Running Time complexity of this algorithm  \n"
   ]
  },
  {
   "cell_type": "code",
   "execution_count": 2,
   "id": "5f1a263b",
   "metadata": {},
   "outputs": [],
   "source": [
    "# Import required Libraries: - Numpy, linear Algebra \n",
    "import numpy as np\n",
    "import numpy.linalg as la\n",
    "np.set_printoptions(suppress=True)"
   ]
  },
  {
   "cell_type": "markdown",
   "id": "0bc4ac41",
   "metadata": {},
   "source": [
    "##### Example: \n",
    "- Let's take a small network of webpage and it's connection or link to other webpage is shown in the below diagram\n",
    "![image.png](./img/Small_network_1.png)\n",
    "- Here our task is to find the lnked Matrix which have information of a webpage and it's connection to each other webpage with the propablity of reaching out to. \n",
    "- Our task is to find the Rank of each webPage such that it's eigen vector is constant in the span and it's eigen value is almost equal to 1. "
   ]
  },
  {
   "cell_type": "code",
   "execution_count": 4,
   "id": "74376f39",
   "metadata": {},
   "outputs": [],
   "source": [
    "# L -> LinkMatrix having information of basis vector with probablity of link to other webpage\n",
    "L = np.array([[0, 1/2, 1/2, 0, 0, 0],\n",
    "             [1/3, 0, 0, 0, 1/2, 0],\n",
    "             [1/3, 1/2, 0, 1, 0, 0],\n",
    "             [1/3, 0, 1/2, 0, 1/2, 1],\n",
    "             [0, 0, 0, 0, 0, 0],\n",
    "             [0, 0, 0, 0, 0, 0]])"
   ]
  },
  {
   "cell_type": "code",
   "execution_count": 46,
   "id": "03baba84",
   "metadata": {},
   "outputs": [],
   "source": [
    "# Calcuate Eigen value and Eigen Vector for this matrix\n",
    "eVals, eVecs = la.eig(L)"
   ]
  },
  {
   "cell_type": "code",
   "execution_count": 47,
   "id": "189fe71b",
   "metadata": {},
   "outputs": [
    {
     "name": "stdout",
     "output_type": "stream",
     "text": [
      "[24.  8. 40. 28. -0. -0.]\n"
     ]
    }
   ],
   "source": [
    "# Let's make the transformation Vector V\n",
    "# is the number of absolute Eigen values of Linked Matrix / Number Webpages \n",
    "\n",
    "# Convert Eigenvalues to absolute number and sort them in ascending order\n",
    "order = np.absolute(eVals).argsort()[::-1] \n",
    "eVals = eVals[order]\n",
    "eVecs = eVecs[:,order]\n",
    "eVecs = eVecs[:,0]\n",
    "\n",
    "# Set r as the principle Eigen Vector \n",
    "r = eVecs\n",
    "r = 100 * np.real(r / np.sum(r))\n",
    "print(r)"
   ]
  },
  {
   "cell_type": "code",
   "execution_count": 61,
   "id": "21338501",
   "metadata": {},
   "outputs": [
    {
     "name": "stdout",
     "output_type": "stream",
     "text": [
      "Number of Iterations Taken: 20\n",
      "[24.00169615  7.99971116 39.99692006 28.00167263  0.          0.        ]\n"
     ]
    }
   ],
   "source": [
    "# Calculation of the Transformation Matrix with principle vector r\n",
    "r = 100 * np.ones(6) * 1 / 6\n",
    "lastIteration = r\n",
    "r = L @ r\n",
    "i = 0\n",
    "while la.norm(lastIteration - r) > 0.01:\n",
    "    lastIteration = r\n",
    "    r = L @ r\n",
    "    i += 1\n",
    "\n",
    "print(\"Number of Iterations Taken: \" + str(i))\n",
    "print(r)"
   ]
  },
  {
   "cell_type": "markdown",
   "id": "aa507989",
   "metadata": {},
   "source": [
    "###### TODO:\n",
    "- Make a small network and calculate the Rank of each page when there is Loop in a webpage\n",
    "- Calcuate using introducton to dumping (Probablity of Randamly selecting the webpage)"
   ]
  }
 ],
 "metadata": {
  "kernelspec": {
   "display_name": ".venv",
   "language": "python",
   "name": "python3"
  },
  "language_info": {
   "codemirror_mode": {
    "name": "ipython",
    "version": 3
   },
   "file_extension": ".py",
   "mimetype": "text/x-python",
   "name": "python",
   "nbconvert_exporter": "python",
   "pygments_lexer": "ipython3",
   "version": "3.12.3"
  }
 },
 "nbformat": 4,
 "nbformat_minor": 5
}
